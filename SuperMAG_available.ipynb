{
 "cells": [
  {
   "cell_type": "code",
   "execution_count": null,
   "metadata": {},
   "outputs": [],
   "source": [
    "import matplotlib.pyplot as plt\n",
    "import numpy as np\n",
    "import pandas as pd\n",
    "import matplotlib.image as mpimg\n",
    "%matplotlib inline"
   ]
  },
  {
   "cell_type": "code",
   "execution_count": null,
   "metadata": {},
   "outputs": [],
   "source": [
    "# Set the following parameters to determine which stations have \"good\" availability\n",
    "\n",
    "syear = 2009  # Good stations will only be identified based on info between syear and eyear\n",
    "eyear = 2020\n",
    "'''Solar Maxima: 2002, 2014\n",
    "   Solar Minima: 1997, 2009, 2020'''\n",
    "low_lat = 39. # The minimum geographic latitude of stations to be considered\n",
    "high_lat = 70. # The maximum geographic latitude of stations to be considered\n",
    "w_lon = 210. # The minimum geographic longitude of stations to be considered\n",
    "e_lon = 300. # The maximum geographic latitude of stations to be considered\n",
    "avg_avail_min = 40 # Stations whose average percent available data over the years of consideration are less than this are eliminated\n",
    "year_avail_min = 25  # Stations that don't have at least this much available data every year are eliminated\n",
    "all_stations_path = \"supermag_table.csv\" # The path to your raw SuperMAG data table"
   ]
  },
  {
   "cell_type": "code",
   "execution_count": null,
   "metadata": {},
   "outputs": [],
   "source": [
    "# Run the previous cell before running this one!\n",
    "\n",
    "all_stations = pd.read_csv(all_stations_path)\n",
    "\n",
    "year_range = np.arange(syear, eyear+1)\n",
    "\n",
    "if w_lon > e_lon:\n",
    "    w_lon -= 360\n",
    "    \n",
    "# Select only the relevant years\n",
    "all_cols = all_stations.columns.values\n",
    "to_drop = []\n",
    "for col_num in range(6, len(all_stations.iloc[1])):\n",
    "    if int(all_cols[col_num]) not in year_range:\n",
    "        to_drop.append(all_stations.columns[col_num])\n",
    "all_stations = all_stations.drop(to_drop, axis=1)\n",
    "\n",
    "# Select only the stations in the relevant region\n",
    "outside_stations = []\n",
    "for station in range(len(all_stations)):\n",
    "    row = all_stations.iloc[station]\n",
    "    if row[\"GLAT\"] < low_lat or row[\"GLAT\"] > high_lat or row[\"GLON\"] < w_lon or row[\"GLON\"] > e_lon:\n",
    "        outside_stations.append(station)\n",
    "geo_stations = all_stations.drop(outside_stations)\n",
    "\n",
    "# Select only the stations with average availability >= avail_min\n",
    "good_stations = pd.DataFrame([])\n",
    "for row_num in range(len(geo_stations)):\n",
    "    new_row = geo_stations.iloc[row_num][:6]\n",
    "    pcts = []\n",
    "    for col_num in range(6, len(geo_stations.iloc[1])):\n",
    "        pct_str = geo_stations.iloc[row_num][col_num]\n",
    "        pct = float(pct_str[:-1])\n",
    "        pcts.append(pct)\n",
    "    if np.sum(pcts) > avg_avail_min*(len(geo_stations.iloc[1])-6) and np.size(np.where(np.array(pcts)<year_avail_min)) == 0:\n",
    "        new_row = pd.concat([new_row, pd.DataFrame(pcts)])\n",
    "        good_stations = pd.concat([good_stations, new_row], axis=1, ignore_index=True)\n",
    "\n",
    "\n",
    "print(good_stations.loc[\"IAGA\"].values)\n",
    "print(f\"{len(good_stations.loc['IAGA'].values)} stations\")"
   ]
  },
  {
   "cell_type": "code",
   "execution_count": null,
   "metadata": {},
   "outputs": [],
   "source": [
    "# Run the previous cells before running this one!\n",
    "\n",
    "import matplotlib.patches as patches\n",
    "import cartopy.crs as ccrs\n",
    "\n",
    "print(w_lon)\n",
    "if w_lon >= 180:\n",
    "    w_lon -= 360\n",
    "    e_lon -= 360\n",
    "    \n",
    "lats = good_stations.loc[\"GLAT\"].values\n",
    "lons = good_stations.loc[\"GLON\"].values\n",
    "for i in range(len(lons)):\n",
    "    if lons[i] >= 180:\n",
    "        lons[i] -= 360\n",
    "        \n",
    "projection = ccrs.AlbersEqualArea(central_latitude=low_lat+(high_lat-low_lat)/2, central_longitude=e_lon+(w_lon-e_lon)/2)\n",
    "fig, ax = plt.subplots(figsize=(10,10), subplot_kw={\"projection\": projection})\n",
    "# img=mpimg.imread('world_map.jpg')\n",
    "# ax.imshow(img, extent=[-180,180,-90,90])\n",
    "\n",
    "station_scatter = ax.scatter(lons, lats, c=\"Black\", transform=ccrs.PlateCarree(), label=\"Magnetometer\")\n",
    "rect = ax.add_patch(patches.Rectangle((w_lon, low_lat), e_lon-w_lon, high_lat-low_lat, alpha=0.2, transform=ccrs.PlateCarree(),  label=\"Magnetometers within this area only\"))\n",
    "ax.set_extent((w_lon, e_lon, low_lat-10, high_lat+8))\n",
    "ax.gridlines(draw_labels=False)\n",
    "ax.coastlines()\n",
    "plt.legend(loc=\"upper left\", prop={'size': 14}, handles=[station_scatter, rect])\n",
    "plt.xlabel(\"Longitude (Deg)\")\n",
    "plt.ylabel(\"Latitude (Deg)\")\n",
    "plt.title(f\"Locations of Magnetometer Stations with Good Availability: {len(lats)} Stations\")\n",
    "plt.savefig(\"good_locs.png\")"
   ]
  }
 ],
 "metadata": {
  "kernelspec": {
   "display_name": "Python 3 (ipykernel)",
   "language": "python",
   "name": "python3"
  },
  "language_info": {
   "codemirror_mode": {
    "name": "ipython",
    "version": 3
   },
   "file_extension": ".py",
   "mimetype": "text/x-python",
   "name": "python",
   "nbconvert_exporter": "python",
   "pygments_lexer": "ipython3",
   "version": "3.11.5"
  }
 },
 "nbformat": 4,
 "nbformat_minor": 2
}
